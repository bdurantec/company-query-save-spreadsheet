{
  "nbformat": 4,
  "nbformat_minor": 0,
  "metadata": {
    "colab": {
      "provenance": [],
      "collapsed_sections": [
        "WWsPv81uGCOa",
        "sDq0Xu7NTL_x"
      ],
      "toc_visible": true,
      "authorship_tag": "ABX9TyOrlLW95IuuCRjScsh66Vim",
      "include_colab_link": true
    },
    "kernelspec": {
      "name": "python3",
      "display_name": "Python 3"
    },
    "language_info": {
      "name": "python"
    }
  },
  "cells": [
    {
      "cell_type": "markdown",
      "metadata": {
        "id": "view-in-github",
        "colab_type": "text"
      },
      "source": [
        "<a href=\"https://colab.research.google.com/github/bdurantec/company-query-save-spreadsheet/blob/main/CompanyQuery_SaveSpreadsheet.ipynb\" target=\"_parent\"><img src=\"https://colab.research.google.com/assets/colab-badge.svg\" alt=\"Open In Colab\"/></a>"
      ]
    },
    {
      "cell_type": "markdown",
      "source": [
        "# Document number query and insertion into the Google Sheets database\n",
        "This project aims to populate the CNPJ database by querying data from the Receita API and saving it directly into a Google Sheets database."
      ],
      "metadata": {
        "id": "bjhCJ1pYFgPK"
      }
    },
    {
      "cell_type": "markdown",
      "source": [
        "## Setup Company Query"
      ],
      "metadata": {
        "id": "fHG7WEF-F-w6"
      }
    },
    {
      "cell_type": "code",
      "source": [
        "import requests\n",
        "import re\n",
        "import time"
      ],
      "metadata": {
        "id": "ONVGj2e76OPG"
      },
      "execution_count": 21,
      "outputs": []
    },
    {
      "cell_type": "code",
      "execution_count": 29,
      "metadata": {
        "id": "SeLvgGOz6D6x"
      },
      "outputs": [],
      "source": [
        "BASE_URL = 'https://receitaws.com.br/v1/cnpj/{}'"
      ]
    },
    {
      "cell_type": "code",
      "source": [
        "def remove_special_char(string):\n",
        "    return re.sub(r'\\D', '', string)\n",
        "\n",
        "def get_company(document_number, max_retries=3):\n",
        "    retries = 0\n",
        "    while retries < max_retries:\n",
        "        response = requests.get(BASE_URL.format(document_number))\n",
        "\n",
        "        if response.status_code == 200:\n",
        "            return response.json()\n",
        "\n",
        "        elif response.status_code == 429:\n",
        "            # Too many requests, check if the API provides a retry-after header\n",
        "            retry_after = int(response.headers.get(\"Retry-After\", 60))\n",
        "            print(f\">> Rate limit exceeded for {document_number}. Retrying after {retry_after} seconds...\")\n",
        "            time.sleep(retry_after)\n",
        "            retries += 1\n",
        "\n",
        "        else:\n",
        "            return f\"Error for {document_number}: {response.text}\"\n",
        "\n",
        "    return f\"Max retries exceeded for {document_number}.\""
      ],
      "metadata": {
        "id": "WcLQ8GlV6Efb"
      },
      "execution_count": 71,
      "outputs": []
    },
    {
      "cell_type": "markdown",
      "source": [
        "## Setup Google Sheets"
      ],
      "metadata": {
        "id": "WWsPv81uGCOa"
      }
    },
    {
      "cell_type": "code",
      "source": [
        "!pip install --upgrade gspread gspread_dataframe"
      ],
      "metadata": {
        "colab": {
          "base_uri": "https://localhost:8080/"
        },
        "collapsed": true,
        "id": "wl3To_eFGFdd",
        "outputId": "b75f86fd-20b8-4426-f1f2-91e947c2da58"
      },
      "execution_count": 32,
      "outputs": [
        {
          "output_type": "stream",
          "name": "stdout",
          "text": [
            "Requirement already satisfied: gspread in /usr/local/lib/python3.10/dist-packages (6.0.2)\n",
            "Collecting gspread\n",
            "  Downloading gspread-6.1.2-py3-none-any.whl.metadata (11 kB)\n",
            "Requirement already satisfied: gspread_dataframe in /usr/local/lib/python3.10/dist-packages (3.3.1)\n",
            "Collecting gspread_dataframe\n",
            "  Downloading gspread_dataframe-4.0.0-py2.py3-none-any.whl.metadata (4.5 kB)\n",
            "Requirement already satisfied: google-auth>=1.12.0 in /usr/local/lib/python3.10/dist-packages (from gspread) (2.27.0)\n",
            "Requirement already satisfied: google-auth-oauthlib>=0.4.1 in /usr/local/lib/python3.10/dist-packages (from gspread) (1.2.1)\n",
            "Requirement already satisfied: pandas>=0.24.0 in /usr/local/lib/python3.10/dist-packages (from gspread_dataframe) (2.1.4)\n",
            "Requirement already satisfied: six>=1.12.0 in /usr/local/lib/python3.10/dist-packages (from gspread_dataframe) (1.16.0)\n",
            "Requirement already satisfied: cachetools<6.0,>=2.0.0 in /usr/local/lib/python3.10/dist-packages (from google-auth>=1.12.0->gspread) (5.5.0)\n",
            "Requirement already satisfied: pyasn1-modules>=0.2.1 in /usr/local/lib/python3.10/dist-packages (from google-auth>=1.12.0->gspread) (0.4.1)\n",
            "Requirement already satisfied: rsa<5,>=3.1.4 in /usr/local/lib/python3.10/dist-packages (from google-auth>=1.12.0->gspread) (4.9)\n",
            "Requirement already satisfied: requests-oauthlib>=0.7.0 in /usr/local/lib/python3.10/dist-packages (from google-auth-oauthlib>=0.4.1->gspread) (1.3.1)\n",
            "Requirement already satisfied: numpy<2,>=1.22.4 in /usr/local/lib/python3.10/dist-packages (from pandas>=0.24.0->gspread_dataframe) (1.26.4)\n",
            "Requirement already satisfied: python-dateutil>=2.8.2 in /usr/local/lib/python3.10/dist-packages (from pandas>=0.24.0->gspread_dataframe) (2.8.2)\n",
            "Requirement already satisfied: pytz>=2020.1 in /usr/local/lib/python3.10/dist-packages (from pandas>=0.24.0->gspread_dataframe) (2024.2)\n",
            "Requirement already satisfied: tzdata>=2022.1 in /usr/local/lib/python3.10/dist-packages (from pandas>=0.24.0->gspread_dataframe) (2024.1)\n",
            "Requirement already satisfied: pyasn1<0.7.0,>=0.4.6 in /usr/local/lib/python3.10/dist-packages (from pyasn1-modules>=0.2.1->google-auth>=1.12.0->gspread) (0.6.1)\n",
            "Requirement already satisfied: oauthlib>=3.0.0 in /usr/local/lib/python3.10/dist-packages (from requests-oauthlib>=0.7.0->google-auth-oauthlib>=0.4.1->gspread) (3.2.2)\n",
            "Requirement already satisfied: requests>=2.0.0 in /usr/local/lib/python3.10/dist-packages (from requests-oauthlib>=0.7.0->google-auth-oauthlib>=0.4.1->gspread) (2.32.3)\n",
            "Requirement already satisfied: charset-normalizer<4,>=2 in /usr/local/lib/python3.10/dist-packages (from requests>=2.0.0->requests-oauthlib>=0.7.0->google-auth-oauthlib>=0.4.1->gspread) (3.3.2)\n",
            "Requirement already satisfied: idna<4,>=2.5 in /usr/local/lib/python3.10/dist-packages (from requests>=2.0.0->requests-oauthlib>=0.7.0->google-auth-oauthlib>=0.4.1->gspread) (3.10)\n",
            "Requirement already satisfied: urllib3<3,>=1.21.1 in /usr/local/lib/python3.10/dist-packages (from requests>=2.0.0->requests-oauthlib>=0.7.0->google-auth-oauthlib>=0.4.1->gspread) (2.2.3)\n",
            "Requirement already satisfied: certifi>=2017.4.17 in /usr/local/lib/python3.10/dist-packages (from requests>=2.0.0->requests-oauthlib>=0.7.0->google-auth-oauthlib>=0.4.1->gspread) (2024.8.30)\n",
            "Downloading gspread-6.1.2-py3-none-any.whl (57 kB)\n",
            "\u001b[2K   \u001b[90m━━━━━━━━━━━━━━━━━━━━━━━━━━━━━━━━━━━━━━━━\u001b[0m \u001b[32m57.5/57.5 kB\u001b[0m \u001b[31m1.0 MB/s\u001b[0m eta \u001b[36m0:00:00\u001b[0m\n",
            "\u001b[?25hDownloading gspread_dataframe-4.0.0-py2.py3-none-any.whl (9.0 kB)\n",
            "Installing collected packages: gspread, gspread_dataframe\n",
            "  Attempting uninstall: gspread\n",
            "    Found existing installation: gspread 6.0.2\n",
            "    Uninstalling gspread-6.0.2:\n",
            "      Successfully uninstalled gspread-6.0.2\n",
            "  Attempting uninstall: gspread_dataframe\n",
            "    Found existing installation: gspread-dataframe 3.3.1\n",
            "    Uninstalling gspread-dataframe-3.3.1:\n",
            "      Successfully uninstalled gspread-dataframe-3.3.1\n",
            "Successfully installed gspread-6.1.2 gspread_dataframe-4.0.0\n"
          ]
        }
      ]
    },
    {
      "cell_type": "code",
      "source": [
        "from google.colab import auth\n",
        "import gspread\n",
        "from google.auth import default"
      ],
      "metadata": {
        "id": "F_Q2QgLyODnK"
      },
      "execution_count": 61,
      "outputs": []
    },
    {
      "cell_type": "code",
      "source": [
        "# Google Auth\n",
        "auth.authenticate_user()\n",
        "creds, _ = default()\n",
        "gc = gspread.authorize(creds)"
      ],
      "metadata": {
        "id": "xG6yCjb8GHBN"
      },
      "execution_count": 63,
      "outputs": []
    },
    {
      "cell_type": "code",
      "source": [
        "# Create a spreadsheet\n",
        "# sh = gc.create('New spreadsheet')\n",
        "# sh.share('my-gmail@gmail.com', perm_type='user', role='writer')"
      ],
      "metadata": {
        "id": "-wwdXEBvGacj"
      },
      "execution_count": 43,
      "outputs": []
    },
    {
      "cell_type": "markdown",
      "source": [
        "## Service"
      ],
      "metadata": {
        "id": "sDq0Xu7NTL_x"
      }
    },
    {
      "cell_type": "code",
      "source": [
        "import pandas as pd\n",
        "from gspread_dataframe import set_with_dataframe\n",
        "\n",
        "companies = []\n",
        "\n",
        "def exec(documents, spreadsheet_id):\n",
        "    get_companies_by_document(documents)\n",
        "    set_companies_in_spreadsheet(spreadsheet_id)\n",
        "\n",
        "def get_companies_by_document(documents):\n",
        "    for document in documents:\n",
        "        document_number = remove_special_char(document)\n",
        "        companies.append(get_company(document_number))\n",
        "\n",
        "    print('>> Document query successfully completed!')\n",
        "\n",
        "def set_companies_in_spreadsheet(id):\n",
        "    sh = gc.open_by_key(id)\n",
        "    df = pd.DataFrame(companies)\n",
        "\n",
        "    # Select the first tab of the spreadsheet\n",
        "    worksheet = sh.get_worksheet(0)\n",
        "    # Save DataFrame in spreadsheet\n",
        "    set_with_dataframe(worksheet, df)\n",
        "\n",
        "    print('>> Public company data successfully saved in the Google spreadsheet {}.'.format(id))"
      ],
      "metadata": {
        "id": "Aw3E7LxCPs43"
      },
      "execution_count": 72,
      "outputs": []
    },
    {
      "cell_type": "markdown",
      "source": [
        "## For User"
      ],
      "metadata": {
        "id": "126dXY_NPIC4"
      }
    },
    {
      "cell_type": "code",
      "source": [
        "# Insert the CNPJs here\n",
        "documents = [\n",
        "    '09.372.158/0001-67',\n",
        "    '33.014.556/1598-96',\n",
        "    '32.263.580/0001-04',\n",
        "    '90.400.888/0001-42'\n",
        "]\n",
        "\n",
        "worksheet_id = '1L7NDhpvzH7H3p_rHs0TjCdvviN8YsrqgC6_xSzeih68'"
      ],
      "metadata": {
        "id": "lP0gMy_-Oklj"
      },
      "execution_count": 76,
      "outputs": []
    },
    {
      "cell_type": "code",
      "source": [
        "exec(documents, worksheet_id)"
      ],
      "metadata": {
        "colab": {
          "base_uri": "https://localhost:8080/"
        },
        "id": "-eaFFVo5PnC3",
        "outputId": "cdc805ac-7068-4c62-88f5-2b245ae2a593"
      },
      "execution_count": 74,
      "outputs": [
        {
          "output_type": "stream",
          "name": "stdout",
          "text": [
            ">> Rate limit exceeded for 90400888000142. Retrying after 60 seconds...\n",
            ">> Document query successfully completed!\n",
            ">> Public company data successfully saved in the Google spreadsheet 1L7NDhpvzH7H3p_rHs0TjCdvviN8YsrqgC6_xSzeih68.\n"
          ]
        }
      ]
    },
    {
      "cell_type": "markdown",
      "source": [
        "End."
      ],
      "metadata": {
        "id": "ZASzLhYTT2oA"
      }
    }
  ]
}